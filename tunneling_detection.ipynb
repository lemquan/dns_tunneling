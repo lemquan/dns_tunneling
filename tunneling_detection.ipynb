{
 "cells": [
  {
   "cell_type": "code",
   "execution_count": null,
   "metadata": {
    "collapsed": true
   },
   "outputs": [],
   "source": [
    "import pandas as pd\n",
    "import numpy as np"
   ]
  },
  {
   "cell_type": "code",
   "execution_count": null,
   "metadata": {
    "collapsed": true
   },
   "outputs": [],
   "source": [
    "cols = ['timestamp', 'hostname', 'record', 'TTL','DNS_IP','ANS_IP', '2LD']\n",
    "df = pd.read_csv('data/raw_logs_auth_2016_sep_12_00_14', sep='\\t', names= cols, nrows=5500000)\n",
    "df = df.sort_values(['timestamp'])\n",
    "df['tunnel'] = 0"
   ]
  },
  {
   "cell_type": "code",
   "execution_count": null,
   "metadata": {
    "collapsed": true
   },
   "outputs": [],
   "source": [
    "# get the count of A records as those are good indicators of tunneling\n",
    "t = df[df['record'] != 'A']\n",
    "suspect_domains = t.groupby(['2LD']).size().sort_values(ascending=False)"
   ]
  },
  {
   "cell_type": "code",
   "execution_count": null,
   "metadata": {
    "collapsed": false
   },
   "outputs": [],
   "source": [
    "domains = suspect_domains.to_frame().index.tolist()[:1000]"
   ]
  },
  {
   "cell_type": "code",
   "execution_count": null,
   "metadata": {
    "collapsed": false
   },
   "outputs": [],
   "source": [
    "for domain in domains:\n",
    "    print domain\n",
    "    # limit the df to the suspected domain\n",
    "    domain_df = df[(df['2LD'] == domain)]\n",
    "    grp_df = domain_df.groupby(['record', 'timestamp']).size().to_frame()\n",
    "    grp_df = grp_df.reset_index()\n",
    "    \n",
    "    #\n",
    "    grp_df['delta_size'] = np.abs(grp_df[0] - grp_df[0].shift(1))\n",
    "    \n",
    "    # get the time difference\n",
    "    grp_df['delta_time'] = grp_df['timestamp'] - grp_df['timestamp'].shift(1) \n",
    "    rec_time = grp_df.groupby(['record']).median()\n",
    "    rec_type = rec_time.index.values\n",
    "    time = rec_time[['delta_time']].values.reshape(1,-1)[0].tolist()\n",
    "    m_time = zip(rec_type, time)\n",
    "    \n",
    "    for r,dt in m_time:\n",
    "        sus_df = grp_df[(grp_df['record'] == r) & (grp_df['delta_time'] > dt) \n",
    "                        & (grp_df['delta_size'] > 100)]\n",
    "        if len(sus_df) > 0:\n",
    "            ts = sus_df['timestamp'].values\n",
    "            if len(ts) > 2:\n",
    "                for i in range(0,len(ts)):\n",
    "                    if i < len(ts)-1:\n",
    "                        sus = domain_df[(domain_df['timestamp'] >= ts[i]) & \n",
    "                                  (domain_df['timestamp'] < ts[i+1]) & \n",
    "                                  (domain_df['record'] == r) ]\n",
    "                        df.set_value(sus.index, 'tunnel',1)"
   ]
  },
  {
   "cell_type": "code",
   "execution_count": null,
   "metadata": {
    "collapsed": true
   },
   "outputs": [],
   "source": [
    "df = df[~df['hostname'].str.contains(\"apple.com\")]\n",
    "\n",
    "df = df[~df['hostname'].str.contains(\"google.com\")]\n",
    "\n",
    "df = df[~df['hostname'].str.contains(\"yahoo.com\")]\n",
    "\n",
    "df = df[~df['hostname'].str.contains(\"dropbox.com\")]\n",
    "\n",
    "df = df[~df['hostname'].str.contains(\"twitter.com\")]\n",
    "\n",
    "df = df[~df['hostname'].str.contains(\"vimeo.come\")]"
   ]
  },
  {
   "cell_type": "code",
   "execution_count": null,
   "metadata": {
    "collapsed": false
   },
   "outputs": [],
   "source": [
    "#tunnels_df = df[df['tunnel'] == 1] akadns.net. #throw thsi index out 3453857\n",
    "df[df ['tunnel'] == 0]"
   ]
  },
  {
   "cell_type": "markdown",
   "metadata": {},
   "source": [
    "## Summary\n",
    "Detecting DNS tunneling in this exercise relied mostly on statistical measures. One of the most noted indication of tunneling is observing the type of DNS record-- A, CNAME, MX, or TXT.  Other papers have shown that it is possible to tunnel A and CNAME records, traditionally, TXT records have been a more positive indicator. \n",
    "\n",
    "We start with counting the type of records, where at the 2LD domains with a high count of CNAME or MX records we will examine closer. With each suspicious domain, we get the frequency of requests per timestamp. We expect an increased in requests during tunneling, and with a high latency between timestamps. To observe this, we count the number of requests of a domain at a given time. The first check is to see a high latency between requests. This is an indicator that the server observed some sort of problem whether it was from the many request calls or the start of a tunneling. \n",
    "\n",
    "We also observe that the authorative IP response is quite consistent (returning from the same range of family addresses and 4-5 unique authorative IPs) which we expect for a tunnel would attempt to go to the same authorative IP. Many of hostnames in that time frame exhibit qualities of tunneling such as the lack of non-English words and a high frequency of numerical characters in the name. We also notice that there this cyclic rounds of increased then decreased requests occur at time 1473647400.   "
   ]
  },
  {
   "cell_type": "code",
   "execution_count": null,
   "metadata": {
    "collapsed": true
   },
   "outputs": [],
   "source": []
  }
 ],
 "metadata": {
  "kernelspec": {
   "display_name": "Python 2",
   "language": "python",
   "name": "python2"
  },
  "language_info": {
   "codemirror_mode": {
    "name": "ipython",
    "version": 2
   },
   "file_extension": ".py",
   "mimetype": "text/x-python",
   "name": "python",
   "nbconvert_exporter": "python",
   "pygments_lexer": "ipython2",
   "version": "2.7.10"
  }
 },
 "nbformat": 4,
 "nbformat_minor": 1
}
